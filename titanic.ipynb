{
 "cells": [
  {
   "cell_type": "code",
   "execution_count": 5,
   "metadata": {},
   "outputs": [],
   "source": [
    "import pandas\n",
    "import re\n",
    "import sys\n",
    " \n",
    "sys.path.append(\"..\")"
   ]
  },
  {
   "cell_type": "code",
   "execution_count": 6,
   "metadata": {},
   "outputs": [],
   "source": [
    "data = pandas.read_csv('titanic.csv', index_col='PassengerId')\n",
    " \n",
    "data['Pclass'] = data['Pclass'].astype(object)"
   ]
  },
  {
   "cell_type": "code",
   "execution_count": 7,
   "metadata": {},
   "outputs": [
    {
     "name": "stdout",
     "output_type": "stream",
     "text": [
      "1 577 314\n"
     ]
    }
   ],
   "source": [
    "sex_counts = data['Sex'].value_counts()\n",
    " \n",
    " \n",
    "print(1, '{} {}'.format(sex_counts['male'], sex_counts['female']))"
   ]
  },
  {
   "cell_type": "code",
   "execution_count": 8,
   "metadata": {},
   "outputs": [
    {
     "name": "stdout",
     "output_type": "stream",
     "text": [
      "2 38.38\n"
     ]
    }
   ],
   "source": [
    "surv_counts = data['Survived'].value_counts()\n",
    " \n",
    "surv_percent = 100.0 * surv_counts[1] / surv_counts.sum()\n",
    " \n",
    "print(2, \"{:0.2f}\".format(surv_percent))"
   ]
  },
  {
   "cell_type": "code",
   "execution_count": 9,
   "metadata": {},
   "outputs": [
    {
     "name": "stdout",
     "output_type": "stream",
     "text": [
      "3 24.24\n"
     ]
    }
   ],
   "source": [
    "pclass_counts = data['Pclass'].value_counts()\n",
    " \n",
    "pclass_percent = 100.0 * pclass_counts[1] / pclass_counts.sum()\n",
    " \n",
    " \n",
    "print(3, \"{:0.2f}\".format(pclass_percent))"
   ]
  },
  {
   "cell_type": "code",
   "execution_count": 10,
   "metadata": {},
   "outputs": [
    {
     "name": "stdout",
     "output_type": "stream",
     "text": [
      "4 29.70 28.00\n"
     ]
    }
   ],
   "source": [
    "ages = data['Age'].dropna()\n",
    " \n",
    " \n",
    "print(4, \"{:0.2f} {:0.2f}\".format(ages.mean(), ages.median()))"
   ]
  },
  {
   "cell_type": "code",
   "execution_count": 11,
   "metadata": {},
   "outputs": [
    {
     "name": "stdout",
     "output_type": "stream",
     "text": [
      "5 0.41\n"
     ]
    }
   ],
   "source": [
    "corr = data['SibSp'].corr(data['Parch'])\n",
    " \n",
    " \n",
    "print(5, \"{:0.2f}\".format(corr))"
   ]
  },
  {
   "cell_type": "code",
   "execution_count": 12,
   "metadata": {},
   "outputs": [
    {
     "name": "stdout",
     "output_type": "stream",
     "text": [
      "6 Anna\n"
     ]
    }
   ],
   "source": [
    "def clean_name(name):\n",
    " \n",
    "\n",
    "    s = re.search('^[^,]+, (.*)', name)\n",
    "    if s:\n",
    "        name = s.group(1)\n",
    " \n",
    "   \n",
    "    s = re.search('\\(([^)]+)\\)', name)\n",
    "    if s:\n",
    "        name = s.group(1)\n",
    "   \n",
    "    name = re.sub('(Miss\\. |Mrs\\. |Ms\\. )', '', name)\n",
    "\n",
    "    name = name.split(' ')[0].replace('\"', '')\n",
    "    return name\n",
    " \n",
    "names = data[data['Sex'] == 'female']['Name'].map(clean_name)\n",
    "name_counts = names.value_counts()\n",
    " \n",
    "print(6, name_counts.head(1).index.values[0])"
   ]
  },
  {
   "cell_type": "code",
   "execution_count": null,
   "metadata": {},
   "outputs": [],
   "source": []
  }
 ],
 "metadata": {
  "kernelspec": {
   "display_name": "Python 3",
   "language": "python",
   "name": "python3"
  },
  "language_info": {
   "codemirror_mode": {
    "name": "ipython",
    "version": 3
   },
   "file_extension": ".py",
   "mimetype": "text/x-python",
   "name": "python",
   "nbconvert_exporter": "python",
   "pygments_lexer": "ipython3",
   "version": "3.9.0"
  }
 },
 "nbformat": 4,
 "nbformat_minor": 4
}
